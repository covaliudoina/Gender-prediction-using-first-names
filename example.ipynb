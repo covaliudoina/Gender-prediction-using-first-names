{
 "cells": [
  {
   "cell_type": "code",
   "execution_count": 14,
   "metadata": {},
   "outputs": [
    {
     "name": "stdout",
     "output_type": "stream",
     "text": [
      "Average order value for businesses is: 754.0919125025085 dollars\n",
      "Average order value for businesses is: 704000.0 dollars\n"
     ]
    }
   ],
   "source": [
    "import sys\n",
    "import pandas as pd\n",
    "\n",
    "data =  pd.read_csv('orders.csv', header=0)\n",
    "df = pd.DataFrame(data)\n",
    "\n",
    "direct_client=df.order_amount[df.total_items <= 10]\n",
    "AOV_direct_client= sum(direct_client)/direct_client.count()\n",
    "print('Average order value for businesses is:',AOV_direct_client, 'dollars')\n",
    "\n",
    "business=df.order_amount[df.total_items >10]\n",
    "AOV_business= sum(business)/business.count()\n",
    "print('Average order value for businesses is:',AOV_business, 'dollars')\n"
   ]
  },
  {
   "cell_type": "code",
   "execution_count": null,
   "metadata": {},
   "outputs": [],
   "source": []
  }
 ],
 "metadata": {
  "kernelspec": {
   "display_name": "Python 3",
   "language": "python",
   "name": "python3"
  },
  "language_info": {
   "codemirror_mode": {
    "name": "ipython",
    "version": 3
   },
   "file_extension": ".py",
   "mimetype": "text/x-python",
   "name": "python",
   "nbconvert_exporter": "python",
   "pygments_lexer": "ipython3",
   "version": "3.7.3"
  }
 },
 "nbformat": 4,
 "nbformat_minor": 4
}
